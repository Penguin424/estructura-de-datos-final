{
 "cells": [
  {
   "cell_type": "code",
   "execution_count": null,
   "metadata": {},
   "outputs": [],
   "source": [
    "from multiprocessing import Queue\n",
    "import random\n",
    "\n",
    "queue_time = Queue()\n",
    "\n",
    "print(\"Saving elements at queue...\")\n",
    "for i in range (5):\n",
    "    random_time = random.randint(1, 100)\n",
    "    queue_time.put(random_time)\n",
    "    print(\"%d added at queue\" % random_time)\n",
    "\n",
    "print(\"Reading elements from queue...\")\n",
    "while not queue_time.empty():\n",
    "    time_read = queue_time.get()\n",
    "    print(\"%d read from queue\" % time_read)\n",
    "\n",
    "    \n",
    "\n",
    "class Cola:\n",
    "    def __init__(self):\n",
    "        self.items = []\n",
    "    \n",
    "    def estaVacia(self):\n",
    "        return self.items == []\n",
    "    \n",
    "    def agregar(self, items):\n",
    "        self.items.insert(0,items)\n",
    "        \n",
    "    def avanzar(self):\n",
    "        return self.items.pop()\n",
    "    \n",
    "    def tamano(self):\n",
    "        return len(self.items)\n",
    "    \n",
    "c=Cola()\n",
    "\t\n",
    "c.agregar(4)\n",
    "c.agregar('perro')\n",
    "c.agregar(True)\n",
    "print(c.tamano())"
   ]
  }
 ],
 "metadata": {
  "kernelspec": {
   "display_name": "Python 3",
   "language": "python",
   "name": "python3"
  },
  "language_info": {
   "codemirror_mode": {
    "name": "ipython",
    "version": 3
   },
   "file_extension": ".py",
   "mimetype": "text/x-python",
   "name": "python",
   "nbconvert_exporter": "python",
   "pygments_lexer": "ipython3",
   "version": "3.7.6"
  }
 },
 "nbformat": 4,
 "nbformat_minor": 4
}
