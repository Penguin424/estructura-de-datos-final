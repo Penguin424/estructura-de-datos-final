{
 "cells": [
  {
   "cell_type": "code",
   "execution_count": null,
   "metadata": {},
   "outputs": [],
   "source": [
    "def selectionSort(aList):\n",
    "    for i in range(len(aList)):\n",
    "        least = i\n",
    "        for k in range(i+1, len(aList)):\n",
    "            if aList[k] < aList[least]:\n",
    "                least = k\n",
    "                 \n",
    "        swap(aList, least, i)\n",
    "         \n",
    "def swap(A, x, y):\n",
    "    temp = A[x]\n",
    "    A[x] = A[y]\n",
    "    A[y] = temp\n",
    "my_list = [5.76,4.7,25.3,4.6,32.4,55.3,52.3,7.6,7.3,86.7,43.5]\n",
    "selectionSort(my_list)\n",
    "print (my_list)"
   ]
  }
 ],
 "metadata": {
  "kernelspec": {
   "display_name": "Python 3",
   "language": "python",
   "name": "python3"
  },
  "language_info": {
   "codemirror_mode": {
    "name": "ipython",
    "version": 3
   },
   "file_extension": ".py",
   "mimetype": "text/x-python",
   "name": "python",
   "nbconvert_exporter": "python",
   "pygments_lexer": "ipython3",
   "version": "3.7.6"
  }
 },
 "nbformat": 4,
 "nbformat_minor": 4
}
